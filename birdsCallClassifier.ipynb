{
 "cells": [
  {
   "cell_type": "code",
   "execution_count": 1,
   "id": "6a4f8487",
   "metadata": {
    "_cell_guid": "b1076dfc-b9ad-4769-8c92-a6c4dae69d19",
    "_uuid": "8f2839f25d086af736a60e9eeb907d3b93b6e0e5",
    "execution": {
     "iopub.execute_input": "2023-01-15T20:03:45.155348Z",
     "iopub.status.busy": "2023-01-15T20:03:45.154589Z",
     "iopub.status.idle": "2023-01-15T20:03:50.552303Z",
     "shell.execute_reply": "2023-01-15T20:03:50.551153Z"
    },
    "papermill": {
     "duration": 5.406523,
     "end_time": "2023-01-15T20:03:50.555618",
     "exception": false,
     "start_time": "2023-01-15T20:03:45.149095",
     "status": "completed"
    },
    "tags": []
   },
   "outputs": [],
   "source": [
    "import os\n",
    "import tensorflow as tf\n",
    "import tensorflow_io as tfio\n",
    "import matplotlib.pyplot as plt\n",
    "\n",
    "import warnings\n",
    "warnings.filterwarnings(\"ignore\")"
   ]
  },
  {
   "cell_type": "code",
   "execution_count": null,
   "id": "37c9f848",
   "metadata": {
    "papermill": {
     "duration": 0.001476,
     "end_time": "2023-01-15T20:03:50.559339",
     "exception": false,
     "start_time": "2023-01-15T20:03:50.557863",
     "status": "completed"
    },
    "tags": []
   },
   "outputs": [],
   "source": []
  }
 ],
 "metadata": {
  "kernelspec": {
   "display_name": "Python 3",
   "language": "python",
   "name": "python3"
  },
  "language_info": {
   "codemirror_mode": {
    "name": "ipython",
    "version": 3
   },
   "file_extension": ".py",
   "mimetype": "text/x-python",
   "name": "python",
   "nbconvert_exporter": "python",
   "pygments_lexer": "ipython3",
   "version": "3.7.12"
  },
  "papermill": {
   "default_parameters": {},
   "duration": 16.26745,
   "end_time": "2023-01-15T20:03:53.948913",
   "environment_variables": {},
   "exception": null,
   "input_path": "__notebook__.ipynb",
   "output_path": "__notebook__.ipynb",
   "parameters": {},
   "start_time": "2023-01-15T20:03:37.681463",
   "version": "2.3.4"
  }
 },
 "nbformat": 4,
 "nbformat_minor": 5
}
